{
 "cells": [
  {
   "cell_type": "code",
   "execution_count": 1,
   "id": "db941205-e7bf-4f9a-95dd-b80f3f9321a2",
   "metadata": {},
   "outputs": [
    {
     "name": "stdout",
     "output_type": "stream",
     "text": [
      "Starting Spark application\n"
     ]
    },
    {
     "data": {
      "text/html": [
       "<table>\n",
       "<tr><th>ID</th><th>YARN Application ID</th><th>Kind</th><th>State</th><th>Spark UI</th><th>Driver log</th><th>User</th><th>Current session?</th></tr><tr><td>0</td><td>3cd3af0a-148a-43ef-b482-bc50f7f19851</td><td>pyspark</td><td>idle</td><td><a target=\"_blank\" href=\"https://console-intl.huaweicloud.com/dli/web/0b33ea2a7e0010802fe4c009bb05076d/batch/3cd3af0a-148a-43ef-b482-bc50f7f19851/sparkui\">Link</a></td><td><a target=\"_blank\" href=\"https://console-intl.huaweicloud.com/dli/?type=RUN#/main/jobs/spark/submitLog/3cd3af0a-148a-43ef-b482-bc50f7f19851\">Link</a></td><td>None</td><td>✔</td></tr></table>"
      ],
      "text/plain": [
       "<IPython.core.display.HTML object>"
      ]
     },
     "metadata": {},
     "output_type": "display_data"
    },
    {
     "data": {
      "application/vnd.jupyter.widget-view+json": {
       "model_id": "",
       "version_major": 2,
       "version_minor": 0
      },
      "text/plain": [
       "FloatProgress(value=0.0, bar_style='info', description='Progress:', layout=Layout(height='25px', width='50%'),…"
      ]
     },
     "metadata": {},
     "output_type": "display_data"
    },
    {
     "name": "stdout",
     "output_type": "stream",
     "text": [
      "SparkSession available as 'spark'.\n"
     ]
    },
    {
     "data": {
      "application/vnd.jupyter.widget-view+json": {
       "model_id": "",
       "version_major": 2,
       "version_minor": 0
      },
      "text/plain": [
       "FloatProgress(value=0.0, bar_style='info', description='Progress:', layout=Layout(height='25px', width='50%'),…"
      ]
     },
     "metadata": {},
     "output_type": "display_data"
    },
    {
     "name": "stdout",
     "output_type": "stream",
     "text": [
      "3"
     ]
    }
   ],
   "source": [
    "print(1+2);"
   ]
  },
  {
   "cell_type": "code",
   "execution_count": 1,
   "id": "6d6f97b0-25e6-44ff-8c67-6a0219b7030a",
   "metadata": {},
   "outputs": [
    {
     "name": "stdout",
     "output_type": "stream",
     "text": [
      "Starting Spark application\n"
     ]
    },
    {
     "data": {
      "text/html": [
       "<table>\n",
       "<tr><th>ID</th><th>YARN Application ID</th><th>Kind</th><th>State</th><th>Spark UI</th><th>Driver log</th><th>User</th><th>Current session?</th></tr><tr><td>10</td><td>3f5c35b9-0cc8-4f7f-a580-ec60b7f4c784</td><td>pyspark</td><td>idle</td><td><a target=\"_blank\" href=\"https://console-intl.huaweicloud.com/dli/web/0b33ea2a7e0010802fe4c009bb05076d/batch/3f5c35b9-0cc8-4f7f-a580-ec60b7f4c784/sparkui\">Link</a></td><td><a target=\"_blank\" href=\"https://console-intl.huaweicloud.com/dli/?type=RUN#/main/jobs/spark/submitLog/3f5c35b9-0cc8-4f7f-a580-ec60b7f4c784\">Link</a></td><td>None</td><td>✔</td></tr></table>"
      ],
      "text/plain": [
       "<IPython.core.display.HTML object>"
      ]
     },
     "metadata": {},
     "output_type": "display_data"
    },
    {
     "data": {
      "application/vnd.jupyter.widget-view+json": {
       "model_id": "",
       "version_major": 2,
       "version_minor": 0
      },
      "text/plain": [
       "FloatProgress(value=0.0, bar_style='info', description='Progress:', layout=Layout(height='25px', width='50%'),…"
      ]
     },
     "metadata": {},
     "output_type": "display_data"
    },
    {
     "name": "stdout",
     "output_type": "stream",
     "text": [
      "SparkSession available as 'spark'.\n"
     ]
    },
    {
     "data": {
      "application/vnd.jupyter.widget-view+json": {
       "model_id": "",
       "version_major": 2,
       "version_minor": 0
      },
      "text/plain": [
       "FloatProgress(value=0.0, bar_style='info', description='Progress:', layout=Layout(height='25px', width='50%'),…"
      ]
     },
     "metadata": {},
     "output_type": "display_data"
    },
    {
     "name": "stdout",
     "output_type": "stream",
     "text": [
      "[Row(id=None, name='name'), Row(id=1000, name='TRUE'), Row(id=2000, name='FALSE')]"
     ]
    }
   ],
   "source": [
    "spark.sql(\"select * from andreani_poc.table1_obs_csv\").collect();"
   ]
  },
  {
   "cell_type": "code",
   "execution_count": null,
   "id": "38e4a9bd-52dd-4319-8bfa-9bfb868645f0",
   "metadata": {},
   "outputs": [],
   "source": []
  },
  {
   "cell_type": "code",
   "execution_count": null,
   "id": "0b95e454-b432-42c4-bf7a-4aa4c490a752",
   "metadata": {},
   "outputs": [],
   "source": [
    "spark.sql(\"select * from andreani_poc.table1_obs_csv limit 1\").collect();"
   ]
  }
 ],
 "metadata": {
  "kernelspec": {
   "display_name": "Sparkmagic(DLI-PySpark-3.1.1)",
   "language": "python",
   "name": "pysparkkernel"
  },
  "language_info": {
   "codemirror_mode": {
    "name": "python",
    "version": 3
   },
   "file_extension": ".py",
   "mimetype": "text/x-python",
   "name": "pyspark",
   "pygments_lexer": "python3"
  }
 },
 "nbformat": 4,
 "nbformat_minor": 5
}
