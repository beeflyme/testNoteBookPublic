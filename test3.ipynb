{
 "cells": [
  {
   "cell_type": "code",
   "execution_count": 4,
   "id": "db941205-e7bf-4f9a-95dd-b80f3f9321a2",
   "metadata": {},
   "outputs": [
    {
     "data": {
      "application/vnd.jupyter.widget-view+json": {
       "model_id": "",
       "version_major": 2,
       "version_minor": 0
      },
      "text/plain": [
       "FloatProgress(value=0.0, bar_style='info', description='Progress:', layout=Layout(height='25px', width='50%'),…"
      ]
     },
     "metadata": {},
     "output_type": "display_data"
    },
    {
     "name": "stdout",
     "output_type": "stream",
     "text": [
      "20241024"
     ]
    }
   ],
   "source": [
    "print(1+2+20241021);"
   ]
  },
  {
   "cell_type": "code",
   "execution_count": 2,
   "id": "6d6f97b0-25e6-44ff-8c67-6a0219b7030a",
   "metadata": {},
   "outputs": [
    {
     "data": {
      "application/vnd.jupyter.widget-view+json": {
       "model_id": "",
       "version_major": 2,
       "version_minor": 0
      },
      "text/plain": [
       "FloatProgress(value=0.0, bar_style='info', description='Progress:', layout=Layout(height='25px', width='50%'),…"
      ]
     },
     "metadata": {},
     "output_type": "display_data"
    },
    {
     "name": "stdout",
     "output_type": "stream",
     "text": [
      "2024-10-21 15:23:45.251575\n",
      "2024-10-21 15:23:57.449734"
     ]
    }
   ],
   "source": [
    "import datetime\n",
    "\n",
    "print( datetime.datetime.now())\n",
    "spark.sql(\"select * from andreani_poc.table1_obs_csv\").collect();\n",
    "print( datetime.datetime.now())"
   ]
  },
  {
   "cell_type": "code",
   "execution_count": null,
   "id": "38e4a9bd-52dd-4319-8bfa-9bfb868645f0",
   "metadata": {},
   "outputs": [],
   "source": []
  },
  {
   "cell_type": "code",
   "execution_count": 3,
   "id": "0b95e454-b432-42c4-bf7a-4aa4c490a752",
   "metadata": {},
   "outputs": [
    {
     "data": {
      "application/vnd.jupyter.widget-view+json": {
       "model_id": "",
       "version_major": 2,
       "version_minor": 0
      },
      "text/plain": [
       "FloatProgress(value=0.0, bar_style='info', description='Progress:', layout=Layout(height='25px', width='50%'),…"
      ]
     },
     "metadata": {},
     "output_type": "display_data"
    },
    {
     "name": "stdout",
     "output_type": "stream",
     "text": [
      "[Row(id=None, name='name')]"
     ]
    }
   ],
   "source": [
    "spark.sql(\"select * from andreani_poc.table1_obs_csv limit 2\").collect();"
   ]
  },
  {
   "cell_type": "code",
   "execution_count": null,
   "id": "e6a286bd-be6c-4470-97e8-9cbd89c3b2b6",
   "metadata": {},
   "outputs": [],
   "source": []
  },
  {
   "cell_type": "code",
   "execution_count": null,
   "id": "ff6ddb0b-49da-4bed-892d-2308e5e37352",
   "metadata": {},
   "outputs": [],
   "source": []
  }
 ],
 "metadata": {
  "kernelspec": {
   "display_name": "Sparkmagic(DLI-PySpark-3.1.1)",
   "language": "python",
   "name": "pysparkkernel"
  },
  "language_info": {
   "codemirror_mode": {
    "name": "python",
    "version": 3
   },
   "file_extension": ".py",
   "mimetype": "text/x-python",
   "name": "pyspark",
   "pygments_lexer": "python3"
  }
 },
 "nbformat": 4,
 "nbformat_minor": 5
}
